{
 "cells": [
  {
   "cell_type": "code",
   "execution_count": 2,
   "metadata": {},
   "outputs": [],
   "source": [
    "from IPython.display import Image\n",
    "from IPython.display import HTML\n",
    "import matplotlib.pyplot as plt\n",
    "import numpy as np\n",
    "import numpy.random as npr\n",
    "import math"
   ]
  },
  {
   "cell_type": "markdown",
   "metadata": {},
   "source": [
    "Definir função para representar os sistemas lineares dispostos na atividade!\n",
    "\n",
    "3x + 2y + 4z = 1\n",
    "\n",
    "x + y + 2z = 2\n",
    "\n",
    "4x + 3y - 2z = 3"
   ]
  },
  {
   "cell_type": "code",
   "execution_count": 55,
   "metadata": {},
   "outputs": [],
   "source": [
    "def resolucao():\n",
    "    A = np.array([ [3, 2, 4], [1, 1, 2], [4, 3, -2] ])\n",
    "    b =  np.array([ 1, 2, 3 ] )\n",
    "    resultado = np.linalg.solve(A, b)\n",
    "\n",
    "    return resultado"
   ]
  },
  {
   "cell_type": "markdown",
   "metadata": {},
   "source": [
    "Função responsável por retorna um número de ponto flutuante, dentro dos limites estabelecidos!"
   ]
  },
  {
   "cell_type": "code",
   "execution_count": 53,
   "metadata": {},
   "outputs": [],
   "source": [
    "def Gerador_Aleatorio():\n",
    "    x = round(random.uniform(-10, 10), 1)\n",
    "    y = round(random.uniform(-10, 10), 1)\n",
    "    z = round(random.uniform(-10, 10), 1)\n",
    "\n",
    "    return x, y, z"
   ]
  },
  {
   "cell_type": "markdown",
   "metadata": {},
   "source": [
    "Retorna a máedia da MAtriz A"
   ]
  },
  {
   "cell_type": "code",
   "execution_count": 54,
   "metadata": {},
   "outputs": [],
   "source": [
    "def sistema_linear(x, y, z):\n",
    "    equacao1 = (3 * x) + (2 * y) + (4 * z)\n",
    "    equacao2 = x + y + (2 * z)\n",
    "    equacao3 = (4 * x) + (3 * y) - (2 * z)\n",
    "\n",
    "    return equacao1, equacao2, equacao3"
   ]
  },
  {
   "cell_type": "code",
   "execution_count": 68,
   "metadata": {},
   "outputs": [],
   "source": [
    "def calcular_media(equacao1, equacao2, equacao3):   \n",
    "    m_equacao1 = int(abs((1 - equacao1)/1)*100)\n",
    "    m_equacao2 = int(abs((2 - equacao2)/2)*100)\n",
    "    m_equacao3 = int(abs((3 - equacao3)/2)*100)\n",
    "    \n",
    "    return np.array([[m_equacao1, m_equacao2, m_equacao3]])"
   ]
  },
  {
   "cell_type": "code",
   "execution_count": 85,
   "metadata": {},
   "outputs": [],
   "source": [
    "def calcula_equacao():\n",
    "    vet_media = np.array([[0, 0, 0]])\n",
    "\n",
    "    for i in range(0,50):\n",
    "        x, y, z = Gerador_Aleatorio() \n",
    "        equacao1, equacao2, equacao3 = sistema_linear(x, y, z)\n",
    "        \n",
    "        media = calcular_media(equacao1, equacao2, equacao3)\n",
    "\n",
    "        vet_media = np.append(vet_media, media, axis=0)\n",
    "    \n",
    "    print (vet_media)\n",
    "    return vet_media"
   ]
  },
  {
   "cell_type": "code",
   "execution_count": 93,
   "metadata": {},
   "outputs": [
    {
     "name": "stdout",
     "output_type": "stream",
     "text": [
      "[[   0    0    0]\n",
      " [1789  179 3035]\n",
      " [4150 1070 1025]\n",
      " [1420  405 1755]\n",
      " [1999  219  939]\n",
      " [  50  225 1600]\n",
      " [1830  710 1255]\n",
      " [3130  770 1025]\n",
      " [5070 1185 2400]\n",
      " [6000 1210 2250]\n",
      " [1380  305 1115]\n",
      " [3370  705  589]\n",
      " [2369  810 1125]\n",
      " [7980 1835 2225]\n",
      " [2330  750 1725]\n",
      " [2720  389 2829]\n",
      " [ 140  100  569]\n",
      " [3440  835 1834]\n",
      " [5160 1170  389]\n",
      " [5090  980 1764]\n",
      " [7400 1739 1640]\n",
      " [3760  830 2030]\n",
      " [3579  940  470]\n",
      " [ 190  350 2194]\n",
      " [4740 1015  865]\n",
      " [ 850  370  244]\n",
      " [1710  455 1550]\n",
      " [4250  944  990]\n",
      " [2850  560 3185]\n",
      " [3709  740   44]\n",
      " [3940  735   94]\n",
      " [6709 1515 1070]\n",
      " [1380  600 1670]\n",
      " [2410  869  605]\n",
      " [ 560  185 1584]\n",
      " [2810  565  630]\n",
      " [1370  160 2365]\n",
      " [3840  775  735]\n",
      " [3010  775 1960]\n",
      " [7250 1640 2945]\n",
      " [2440  735 1165]\n",
      " [2970  900  655]\n",
      " [1010  200  944]\n",
      " [1550  405  580]\n",
      " [4220  975 1805]\n",
      " [2000  345 1614]\n",
      " [4079  885 1005]\n",
      " [1139  365 1465]\n",
      " [7750 1614 1610]\n",
      " [2039  665  715]\n",
      " [2949  565 1720]]\n",
      "Menor percentual: 0.0%\n",
      "Maior percentual: 1554.67%\n"
     ]
    }
   ],
   "source": [
    "med = calcula_equacao()\n",
    "\n",
    "percentuais = []\n",
    "\n",
    "for i in range(0, 50):\n",
    "    aux = round(sum(med[i])/3,2)\n",
    "    percentuais.append(aux)\n",
    "\n",
    "percentuais = np.array(percentuais)\n",
    "percentuais.sort()\n",
    "percentuais[25::] = 0\n",
    "            \n",
    "print(\"Menor percentual: {}%\".format( min(percentuais) ))\n",
    "print(\"Maior percentual: {}%\".format( max(percentuais) ))"
   ]
  }
 ],
 "metadata": {
  "kernelspec": {
   "display_name": "Python 3",
   "language": "python",
   "name": "python3"
  },
  "language_info": {
   "codemirror_mode": {
    "name": "ipython",
    "version": 3
   },
   "file_extension": ".py",
   "mimetype": "text/x-python",
   "name": "python",
   "nbconvert_exporter": "python",
   "pygments_lexer": "ipython3",
   "version": "3.7.0"
  }
 },
 "nbformat": 4,
 "nbformat_minor": 2
}
